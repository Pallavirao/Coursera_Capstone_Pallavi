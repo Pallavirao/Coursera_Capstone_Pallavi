{
 "cells": [
  {
   "cell_type": "markdown",
   "metadata": {},
   "source": [
    "Problem: Which major city has the greatest choice of pizza places in the US?\n",
    "\n"
   ]
  },
  {
   "cell_type": "markdown",
   "metadata": {},
   "source": [
    "Introduction:\n",
    "If someone who has never been to the US wants to try a new pizza everyday in a particular city, \n",
    "how would they go about finding the city with the wide variety of choices for pizza available in a short distance? \n",
    "The aim is to analyse Pizza stores’ locations in major US cities and figure out which city has the widest variety of pizza chains on offer. Importantly, the different pizza places should not be spread out too far as that would make it difficult for our tourist to sample them if they are located very far from each other"
   ]
  },
  {
   "cell_type": "markdown",
   "metadata": {},
   "source": [
    "Data section\n",
    "FourSquare API will be used to collect data about locations of Pizza stores in US cities of New York, NY, San Francisco, CA, Jersey City, NJ, Boston, MA and Chicag, IL."
   ]
  },
  {
   "cell_type": "markdown",
   "metadata": {},
   "source": [
    "Methodology\n",
    "Main target here is to assess which city has the highest density of pizza stores. FourSquare API through venues channel will be used. Near query will be used to get venues in the cities. Also CategoryID will be used to look at only pizza places\n",
    "Once their top 100 venues are recognised, the names and coordinate data from the result will be used to plot them on a map\n",
    "After this, to get an indication of density of pizza places, the centre coordinate of venues will be calculated to extract the mean longitude and latitude values. Post that, mean Euclidean distance from each venue to the mean coordinates will be calculated."
   ]
  },
  {
   "cell_type": "markdown",
   "metadata": {},
   "source": [
    "This should give an idea about the city with the widest variety of pizza places at an accessible distance."
   ]
  }
 ],
 "metadata": {
  "kernelspec": {
   "display_name": "Python 3",
   "language": "python",
   "name": "python3"
  },
  "language_info": {
   "codemirror_mode": {
    "name": "ipython",
    "version": 3
   },
   "file_extension": ".py",
   "mimetype": "text/x-python",
   "name": "python",
   "nbconvert_exporter": "python",
   "pygments_lexer": "ipython3",
   "version": "3.7.6"
  }
 },
 "nbformat": 4,
 "nbformat_minor": 4
}
