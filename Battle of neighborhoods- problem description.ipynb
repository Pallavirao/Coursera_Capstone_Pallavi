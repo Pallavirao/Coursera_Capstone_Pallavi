{
 "cells": [
  {
   "cell_type": "markdown",
   "metadata": {},
   "source": [
    "\n",
    "The Battle of the Neighborhoods - Week 1\n",
    "Introduction & Business Problem :\n",
    "Problem Background:\n",
    "City of New York, the big apple is the centre for commerce in the world. It has one of the most competitive markets. It is also very expensive to run a business in New York City. Hence it is imperative to perform thorough analysis of the business environment and a cost-benefit analysis of running a business here.\n",
    "\n",
    "Problem Description:\n",
    "Thanks to its rich immigrant history, the food scene in NY is highly evolved. One can get the everything from bagels to Iranian chai. Hence, in order to attract customers to a new restaurant in a city which leaves you spoilt for choice, various factors described below have to be taken into account to ensure the business venture is viable:\n",
    "New York Population\n",
    "New York City Demographics\n",
    "Presence of Farmers markets and/or wholesale markets nearby to procure fresh produce to maintain quality and cost\n",
    "To attract customers who are from the floating population it would be good to look at nearby gyms, entertainment zones, parks, gyms etc\n",
    "Knowledge of existing competitors in that space\n",
    "Competitor cuisine and menu items\n",
    "Segmentation of the Borough etc\n",
    "It is important to choose the location wisely in order to achieve a viable restaurant enterprise\n",
    "Target Audience:\n",
    "A couple of close friends who recently became business partners, with passion for Italian food, have pooled money together in order to open a restaurant in NYC. They need an in-depth analysis of what location would be best to open their restaurant\n",
    "Success Criteria:\n",
    "A good recommendation of borough and neighbourhood to the business partners based on lack of good Italian restaurants in that location and availability of suppliers of necessary quality ingredients\n"
   ]
  }
 ],
 "metadata": {
  "kernelspec": {
   "display_name": "Python 3",
   "language": "python",
   "name": "python3"
  },
  "language_info": {
   "codemirror_mode": {
    "name": "ipython",
    "version": 3
   },
   "file_extension": ".py",
   "mimetype": "text/x-python",
   "name": "python",
   "nbconvert_exporter": "python",
   "pygments_lexer": "ipython3",
   "version": "3.7.6"
  }
 },
 "nbformat": 4,
 "nbformat_minor": 4
}
